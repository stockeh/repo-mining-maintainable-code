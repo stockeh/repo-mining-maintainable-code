{
 "cells": [
  {
   "cell_type": "code",
   "execution_count": 1,
   "metadata": {},
   "outputs": [],
   "source": [
    "import subprocess\n",
    "import pandas as pd\n",
    "import re\n",
    "import os\n",
    "import matplotlib.pyplot as plt\n",
    "\n",
    "plt.rc('font', family='serif')\n",
    "\n",
    "%matplotlib inline\n",
    "%config InlineBackend.figure_format = 'retina'"
   ]
  },
  {
   "cell_type": "markdown",
   "metadata": {},
   "source": [
    "## Command line commits to extract log information of commits\n",
    "\n",
    "```\n",
    "export LC_ALL=C\n",
    "\n",
    "git log -p --reverse --diff-filter=ACM --pretty=format:\"*@*@*%n%H%n%aN%n%aE%n%ad%n%s%n%d\" --full-diff | \\\n",
    "    gawk 'match($0,\"^@@ -([0-9]+),[0-9]+ [+]([0-9]+),[0-9]+ @@\",a){left=a[1];right=a[2];next};\\\n",
    "   /^(---|\\+\\+\\+|[^-+ ])/{print;next};\\\n",
    "   {line=substr($0,2)};\\\n",
    "   /^-/{print \"-\" left++ \":\" line;next};\\\n",
    "   /^[+]/{print \"+\" right++ \":\" line;next};\\\n",
    "   {print \"(\" left++ \",\" right++ \"):\"line}' > commits.log\n",
    "```"
   ]
  },
  {
   "cell_type": "code",
   "execution_count": 9,
   "metadata": {},
   "outputs": [],
   "source": [
    "vol = 'skywalking/'\n",
    "# os.mkdir(vol)"
   ]
  },
  {
   "cell_type": "code",
   "execution_count": 10,
   "metadata": {},
   "outputs": [],
   "source": [
    "with open('/Users/stock/Development/cs/cs515/' + vol + 'commits.log', 'r', errors='ignore') as f:\n",
    "    \n",
    "    def add_line():\n",
    "        if (addition or subtraction) and file:\n",
    "            commits = {'commit': commit, 'name': name, 'email': email,\n",
    "                       'date': date, 'msg': msg, 'addition': addition,\n",
    "                       'subtraction': subtraction, 'file': file }  \n",
    "            l_commits.append(commits)\n",
    "    \n",
    "    l_commits, addition, subtraction = [], [], []\n",
    "    valid = False\n",
    "    line = f.readline().rstrip('\\n')\n",
    "    \n",
    "    while line:\n",
    "        \n",
    "        if re.match('\\+?\\d+', line) and file:\n",
    "            #+16:public static void main... extract 16\n",
    "            addition.append(int(line[1:].partition(':')[0]))\n",
    "            \n",
    "        elif re.match('\\-?\\d+', line) and file:\n",
    "            subtraction.append(int(line[1:].partition(':')[0]))\n",
    "            \n",
    "        elif 'diff --git' in line:\n",
    "            add_line()\n",
    "            addition = []\n",
    "            subtraction = []\n",
    "            file = ''\n",
    "            if 'test' not in line and '.java' in line:\n",
    "                file = line.split()[-1][2:]\n",
    "            \n",
    "        elif '*@*@*' in line:\n",
    "            add_line()\n",
    "\n",
    "            addition = []\n",
    "            subtraction = []  \n",
    "            file   = ''\n",
    "            commit = f.readline().rstrip('\\n')\n",
    "            name   = f.readline().rstrip('\\n')\n",
    "            email  = f.readline().rstrip('\\n')\n",
    "            date   = f.readline().rstrip('\\n')\n",
    "            msg    = f.readline().rstrip('\\n')\n",
    "                            \n",
    "        line = f.readline().rstrip('\\n')\n",
    "        \n",
    "data = pd.DataFrame.from_dict(l_commits)\n",
    "data.to_csv(vol + 'commits.csv', index=False)"
   ]
  },
  {
   "cell_type": "code",
   "execution_count": 11,
   "metadata": {},
   "outputs": [
    {
     "data": {
      "text/html": [
       "<div>\n",
       "<style scoped>\n",
       "    .dataframe tbody tr th:only-of-type {\n",
       "        vertical-align: middle;\n",
       "    }\n",
       "\n",
       "    .dataframe tbody tr th {\n",
       "        vertical-align: top;\n",
       "    }\n",
       "\n",
       "    .dataframe thead th {\n",
       "        text-align: right;\n",
       "    }\n",
       "</style>\n",
       "<table border=\"1\" class=\"dataframe\">\n",
       "  <thead>\n",
       "    <tr style=\"text-align: right;\">\n",
       "      <th></th>\n",
       "      <th>commit</th>\n",
       "      <th>name</th>\n",
       "      <th>email</th>\n",
       "      <th>date</th>\n",
       "      <th>msg</th>\n",
       "      <th>addition</th>\n",
       "      <th>subtraction</th>\n",
       "      <th>file</th>\n",
       "    </tr>\n",
       "  </thead>\n",
       "  <tbody>\n",
       "    <tr>\n",
       "      <th>28993</th>\n",
       "      <td>00e8f2d88698a56b17023150b4e490d7d2376ee8</td>\n",
       "      <td>kezhenxu94</td>\n",
       "      <td>kezhenxu94@apache.org</td>\n",
       "      <td>Sun Apr 12 20:48:44 2020 +0800</td>\n",
       "      <td>Fix bug that the agent heart beats too frequen...</td>\n",
       "      <td>[54, 88, 89, 94, 105, 112]</td>\n",
       "      <td>[54, 88, 89, 94, 105, 112]</td>\n",
       "      <td>apm-sniffer/apm-agent-core/src/main/java/org/a...</td>\n",
       "    </tr>\n",
       "    <tr>\n",
       "      <th>28994</th>\n",
       "      <td>171620bfa8e74bfc84e7d322c260f319943b7191</td>\n",
       "      <td>mrproliu</td>\n",
       "      <td>741550557@qq.com</td>\n",
       "      <td>Tue Apr 14 09:32:54 2020 +0800</td>\n",
       "      <td>Add Nginx correlation e2e test (#4646)</td>\n",
       "      <td>[111, 112, 113, 114]</td>\n",
       "      <td>[111, 112, 113]</td>\n",
       "      <td>apm-sniffer/apm-agent-core/src/main/java/org/a...</td>\n",
       "    </tr>\n",
       "    <tr>\n",
       "      <th>28995</th>\n",
       "      <td>12703fa54edeb55a6f92d123f767461ea62d1df0</td>\n",
       "      <td>Gao Hongtao</td>\n",
       "      <td>hanahmily@gmail.com</td>\n",
       "      <td>Wed Apr 15 15:08:38 2020 +0800</td>\n",
       "      <td>Keep latest index always present. (#4655)</td>\n",
       "      <td>[57, 62, 63, 69, 70, 71, 72]</td>\n",
       "      <td>[63, 64, 65, 66, 67]</td>\n",
       "      <td>oap-server/server-storage-plugin/storage-elast...</td>\n",
       "    </tr>\n",
       "    <tr>\n",
       "      <th>28996</th>\n",
       "      <td>c11ad038cceb0cb550dbec304b8f92db733eb0d0</td>\n",
       "      <td>kezhenxu94</td>\n",
       "      <td>kezhenxu94@apache.org</td>\n",
       "      <td>Wed Apr 15 23:09:05 2020 +0800</td>\n",
       "      <td>Count the coverage in E2E tests and Plugin tes...</td>\n",
       "      <td>[29]</td>\n",
       "      <td>[29]</td>\n",
       "      <td>oap-server/server-core/src/main/java/org/apach...</td>\n",
       "    </tr>\n",
       "    <tr>\n",
       "      <th>28997</th>\n",
       "      <td>c11ad038cceb0cb550dbec304b8f92db733eb0d0</td>\n",
       "      <td>kezhenxu94</td>\n",
       "      <td>kezhenxu94@apache.org</td>\n",
       "      <td>Wed Apr 15 23:09:05 2020 +0800</td>\n",
       "      <td>Count the coverage in E2E tests and Plugin tes...</td>\n",
       "      <td>[26]</td>\n",
       "      <td>[26]</td>\n",
       "      <td>oap-server/server-query-plugin/query-graphql-p...</td>\n",
       "    </tr>\n",
       "  </tbody>\n",
       "</table>\n",
       "</div>"
      ],
      "text/plain": [
       "                                         commit         name  \\\n",
       "28993  00e8f2d88698a56b17023150b4e490d7d2376ee8   kezhenxu94   \n",
       "28994  171620bfa8e74bfc84e7d322c260f319943b7191     mrproliu   \n",
       "28995  12703fa54edeb55a6f92d123f767461ea62d1df0  Gao Hongtao   \n",
       "28996  c11ad038cceb0cb550dbec304b8f92db733eb0d0   kezhenxu94   \n",
       "28997  c11ad038cceb0cb550dbec304b8f92db733eb0d0   kezhenxu94   \n",
       "\n",
       "                       email                            date  \\\n",
       "28993  kezhenxu94@apache.org  Sun Apr 12 20:48:44 2020 +0800   \n",
       "28994       741550557@qq.com  Tue Apr 14 09:32:54 2020 +0800   \n",
       "28995    hanahmily@gmail.com  Wed Apr 15 15:08:38 2020 +0800   \n",
       "28996  kezhenxu94@apache.org  Wed Apr 15 23:09:05 2020 +0800   \n",
       "28997  kezhenxu94@apache.org  Wed Apr 15 23:09:05 2020 +0800   \n",
       "\n",
       "                                                     msg  \\\n",
       "28993  Fix bug that the agent heart beats too frequen...   \n",
       "28994             Add Nginx correlation e2e test (#4646)   \n",
       "28995          Keep latest index always present. (#4655)   \n",
       "28996  Count the coverage in E2E tests and Plugin tes...   \n",
       "28997  Count the coverage in E2E tests and Plugin tes...   \n",
       "\n",
       "                           addition                 subtraction  \\\n",
       "28993    [54, 88, 89, 94, 105, 112]  [54, 88, 89, 94, 105, 112]   \n",
       "28994          [111, 112, 113, 114]             [111, 112, 113]   \n",
       "28995  [57, 62, 63, 69, 70, 71, 72]        [63, 64, 65, 66, 67]   \n",
       "28996                          [29]                        [29]   \n",
       "28997                          [26]                        [26]   \n",
       "\n",
       "                                                    file  \n",
       "28993  apm-sniffer/apm-agent-core/src/main/java/org/a...  \n",
       "28994  apm-sniffer/apm-agent-core/src/main/java/org/a...  \n",
       "28995  oap-server/server-storage-plugin/storage-elast...  \n",
       "28996  oap-server/server-core/src/main/java/org/apach...  \n",
       "28997  oap-server/server-query-plugin/query-graphql-p...  "
      ]
     },
     "execution_count": 11,
     "metadata": {},
     "output_type": "execute_result"
    }
   ],
   "source": [
    "data.tail()"
   ]
  },
  {
   "cell_type": "code",
   "execution_count": 12,
   "metadata": {},
   "outputs": [
    {
     "data": {
      "image/png": "[encoded data removed]",
      "text/plain": [
       "<Figure size 432x288 with 1 Axes>"
      ]
     },
     "metadata": {
      "image/png": {
       "height": 250,
       "width": 392
      },
      "needs_background": "light"
     },
     "output_type": "display_data"
    }
   ],
   "source": [
    "fig = plt.figure()\n",
    "ax = fig.add_subplot(111)\n",
    "\n",
    "max_inserts = 5000\n",
    "\n",
    "sample = data[(data['addition'].map(len) <= max_inserts) & \n",
    "              ((data['subtraction'].map(len) <= max_inserts))].reset_index(drop=True)\n",
    "adds = sample.addition.map(lambda x: len(x))\n",
    "subs = sample.subtraction.map(lambda x: len(x))\n",
    "\n",
    "ax.plot(adds,'b')\n",
    "ax.plot(subs,'r')\n",
    "\n",
    "plt.show()"
   ]
  },
  {
   "cell_type": "code",
   "execution_count": 13,
   "metadata": {},
   "outputs": [],
   "source": [
    "def print_progress_bar(iteration, total, prefix = '', suffix = '', decimals = 1,\n",
    "                       length = 100, fill = '█', printEnd = \"\\r\"):\n",
    "    percent = (\"{0:.\" + str(decimals) + \"f}\").format(100 * (iteration / float(total)))\n",
    "    filledLength = int(length * iteration // total)\n",
    "    bar = fill * filledLength + '-' * (length - filledLength)\n",
    "    print('\\r%s |%s| %s%% %s' % (prefix, bar, percent, suffix), end = printEnd)\n",
    "    if iteration == total:\n",
    "        print()"
   ]
  },
  {
   "cell_type": "code",
   "execution_count": 14,
   "metadata": {},
   "outputs": [
    {
     "name": "stdout",
     "output_type": "stream",
     "text": [
      "git show 9c23c745c76157ff32ce4c00af0556ba45aaa652:skywalking-collector/skywalking-protocol/src/main/java/com/ai/cloud/skywalking/protocol/AckSpan.java\n"
     ]
    }
   ],
   "source": [
    "s = data[data['commit'] == 'fd3dc3a914332adf856b017550407c02358c0b60']\n",
    "i = 2642\n",
    "commit = data.iloc[i].commit\n",
    "file = data.iloc[i].file\n",
    "print(f'git show {commit}:{file}')"
   ]
  },
  {
   "cell_type": "markdown",
   "metadata": {},
   "source": [
    "# Run PMD and save output"
   ]
  },
  {
   "cell_type": "code",
   "execution_count": 15,
   "metadata": {},
   "outputs": [
    {
     "name": "stdout",
     "output_type": "stream",
     "text": [
      "Progress: |██████████████████████████████████████████████████| 100.0% Complete\n"
     ]
    }
   ],
   "source": [
    "dirr = '/Users/stock/Development/cs/cs515/project/'\n",
    "temp = dirr + vol + 'temp'\n",
    "\n",
    "total = len(data)\n",
    "for i, row in data.iterrows():\n",
    "    \n",
    "    commit = row.commit\n",
    "    file = row.file\n",
    "\n",
    "    output = f'{temp}/{commit}/{file}'\n",
    "    os.makedirs(os.path.dirname(output), exist_ok=True)\n",
    "    \n",
    "    show = f'git show {commit}:{file}'\n",
    "    with open(output, 'w') as f:\n",
    "        process = subprocess.Popen(show.split(), cwd='/Users/stock/Development/cs/cs515/' + vol, stdout=f)\n",
    "        \n",
    "    print_progress_bar(i + 1, total, prefix='Progress:', suffix='Complete', length=50)"
   ]
  },
  {
   "cell_type": "code",
   "execution_count": 18,
   "metadata": {},
   "outputs": [],
   "source": [
    "pmd = '/Users/stock/Development/cs/cs515/A4/pmd-bin-6.22.0/bin/run.sh pmd'\n",
    "output = dirr + vol + 'pmd-results.csv'\n",
    "cmd = f'{pmd} -d {temp} -R rulesets/java/quickstart.xml -f csv -r ' + output + ' -language java -version 1.8'"
   ]
  },
  {
   "cell_type": "code",
   "execution_count": 9,
   "metadata": {},
   "outputs": [
    {
     "name": "stdout",
     "output_type": "stream",
     "text": [
      "Done!\n"
     ]
    }
   ],
   "source": [
    "with open(output, 'w') as f:\n",
    "    process = subprocess.Popen(cmd.split(), stdout=f)\n",
    "    process.wait()\n",
    "    \n",
    "print('Done!')"
   ]
  },
  {
   "cell_type": "code",
   "execution_count": 20,
   "metadata": {},
   "outputs": [
    {
     "data": {
      "text/html": [
       "<div>\n",
       "<style scoped>\n",
       "    .dataframe tbody tr th:only-of-type {\n",
       "        vertical-align: middle;\n",
       "    }\n",
       "\n",
       "    .dataframe tbody tr th {\n",
       "        vertical-align: top;\n",
       "    }\n",
       "\n",
       "    .dataframe thead th {\n",
       "        text-align: right;\n",
       "    }\n",
       "</style>\n",
       "<table border=\"1\" class=\"dataframe\">\n",
       "  <thead>\n",
       "    <tr style=\"text-align: right;\">\n",
       "      <th></th>\n",
       "      <th>Problem</th>\n",
       "      <th>Package</th>\n",
       "      <th>File</th>\n",
       "      <th>Priority</th>\n",
       "      <th>Line</th>\n",
       "      <th>Description</th>\n",
       "      <th>Rule set</th>\n",
       "      <th>Rule</th>\n",
       "    </tr>\n",
       "  </thead>\n",
       "  <tbody>\n",
       "    <tr>\n",
       "      <th>0</th>\n",
       "      <td>1</td>\n",
       "      <td>com.a.eye.skywalking.trace.tag</td>\n",
       "      <td>/Users/stock/Development/cs/cs515/project/temp...</td>\n",
       "      <td>1</td>\n",
       "      <td>9</td>\n",
       "      <td>The utility class name 'Tags' doesn't match '[...</td>\n",
       "      <td>Code Style</td>\n",
       "      <td>ClassNamingConventions</td>\n",
       "    </tr>\n",
       "    <tr>\n",
       "      <th>1</th>\n",
       "      <td>1</td>\n",
       "      <td>org.apache.skywalking.apm.agent.core.conf</td>\n",
       "      <td>/Users/stock/Development/cs/cs515/project/temp...</td>\n",
       "      <td>1</td>\n",
       "      <td>37</td>\n",
       "      <td>The utility class name 'Agent' doesn't match '...</td>\n",
       "      <td>Code Style</td>\n",
       "      <td>ClassNamingConventions</td>\n",
       "    </tr>\n",
       "    <tr>\n",
       "      <th>2</th>\n",
       "      <td>2</td>\n",
       "      <td>org.apache.skywalking.apm.agent.core.conf</td>\n",
       "      <td>/Users/stock/Development/cs/cs515/project/temp...</td>\n",
       "      <td>1</td>\n",
       "      <td>123</td>\n",
       "      <td>The utility class name 'Collector' doesn't mat...</td>\n",
       "      <td>Code Style</td>\n",
       "      <td>ClassNamingConventions</td>\n",
       "    </tr>\n",
       "    <tr>\n",
       "      <th>3</th>\n",
       "      <td>3</td>\n",
       "      <td>org.apache.skywalking.apm.agent.core.conf</td>\n",
       "      <td>/Users/stock/Development/cs/cs515/project/temp...</td>\n",
       "      <td>1</td>\n",
       "      <td>142</td>\n",
       "      <td>The utility class name 'Jvm' doesn't match '[A...</td>\n",
       "      <td>Code Style</td>\n",
       "      <td>ClassNamingConventions</td>\n",
       "    </tr>\n",
       "    <tr>\n",
       "      <th>4</th>\n",
       "      <td>4</td>\n",
       "      <td>org.apache.skywalking.apm.agent.core.conf</td>\n",
       "      <td>/Users/stock/Development/cs/cs515/project/temp...</td>\n",
       "      <td>1</td>\n",
       "      <td>149</td>\n",
       "      <td>The utility class name 'Buffer' doesn't match ...</td>\n",
       "      <td>Code Style</td>\n",
       "      <td>ClassNamingConventions</td>\n",
       "    </tr>\n",
       "  </tbody>\n",
       "</table>\n",
       "</div>"
      ],
      "text/plain": [
       "   Problem                                    Package  \\\n",
       "0        1             com.a.eye.skywalking.trace.tag   \n",
       "1        1  org.apache.skywalking.apm.agent.core.conf   \n",
       "2        2  org.apache.skywalking.apm.agent.core.conf   \n",
       "3        3  org.apache.skywalking.apm.agent.core.conf   \n",
       "4        4  org.apache.skywalking.apm.agent.core.conf   \n",
       "\n",
       "                                                File  Priority  Line  \\\n",
       "0  /Users/stock/Development/cs/cs515/project/temp...         1     9   \n",
       "1  /Users/stock/Development/cs/cs515/project/temp...         1    37   \n",
       "2  /Users/stock/Development/cs/cs515/project/temp...         1   123   \n",
       "3  /Users/stock/Development/cs/cs515/project/temp...         1   142   \n",
       "4  /Users/stock/Development/cs/cs515/project/temp...         1   149   \n",
       "\n",
       "                                         Description    Rule set  \\\n",
       "0  The utility class name 'Tags' doesn't match '[...  Code Style   \n",
       "1  The utility class name 'Agent' doesn't match '...  Code Style   \n",
       "2  The utility class name 'Collector' doesn't mat...  Code Style   \n",
       "3  The utility class name 'Jvm' doesn't match '[A...  Code Style   \n",
       "4  The utility class name 'Buffer' doesn't match ...  Code Style   \n",
       "\n",
       "                     Rule  \n",
       "0  ClassNamingConventions  \n",
       "1  ClassNamingConventions  \n",
       "2  ClassNamingConventions  \n",
       "3  ClassNamingConventions  \n",
       "4  ClassNamingConventions  "
      ]
     },
     "execution_count": 20,
     "metadata": {},
     "output_type": "execute_result"
    }
   ],
   "source": [
    "smells = pd.read_csv(output)\n",
    "smells.head()"
   ]
  },
  {
   "cell_type": "markdown",
   "metadata": {},
   "source": [
    "# Join smells to commits"
   ]
  },
  {
   "cell_type": "code",
   "execution_count": null,
   "metadata": {},
   "outputs": [],
   "source": [
    "l_smells = []\n",
    "for i, d_row in data.iterrows():\n",
    "    commit = d_row.commit\n",
    "    file = d_row.file\n",
    "    \n",
    "    smells_dict = []\n",
    "    \n",
    "    s = smells[(smells['File'].str.contains(commit, case=False, regex=False)) & (smells['File'].str.contains(file, case=False, regex=False))]\n",
    "    for j, smell in s.iterrows():\n",
    "        if smell.Line in d_row.addition:\n",
    "            smells_dict.append({'line': smell.Line, \n",
    "                                'priority': smell.Priority, \n",
    "                                'rule': smell.Rule})\n",
    "    \n",
    "    l_smells.append(smells_dict)\n",
    "    print_progress_bar(i + 1, total, prefix='Progress:', suffix='Complete', length=50)"
   ]
  },
  {
   "cell_type": "code",
   "execution_count": null,
   "metadata": {},
   "outputs": [],
   "source": [
    "new_data = data.assign(smells=pd.Series(l_smells).values)\n",
    "new_data.to_csv(vol + '/commits-smells.csv', index=False)\n",
    "new_data.tail(100)"
   ]
  },
  {
   "cell_type": "markdown",
   "metadata": {},
   "source": [
    "# Smell analysis"
   ]
  },
  {
   "cell_type": "code",
   "execution_count": 139,
   "metadata": {},
   "outputs": [
    {
     "data": {
      "text/html": [
       "<div>\n",
       "<style scoped>\n",
       "    .dataframe tbody tr th:only-of-type {\n",
       "        vertical-align: middle;\n",
       "    }\n",
       "\n",
       "    .dataframe tbody tr th {\n",
       "        vertical-align: top;\n",
       "    }\n",
       "\n",
       "    .dataframe thead th {\n",
       "        text-align: right;\n",
       "    }\n",
       "</style>\n",
       "<table border=\"1\" class=\"dataframe\">\n",
       "  <thead>\n",
       "    <tr style=\"text-align: right;\">\n",
       "      <th></th>\n",
       "      <th>commit</th>\n",
       "      <th>name</th>\n",
       "      <th>email</th>\n",
       "      <th>date</th>\n",
       "      <th>msg</th>\n",
       "      <th>addition</th>\n",
       "      <th>subtraction</th>\n",
       "      <th>file</th>\n",
       "      <th>smells</th>\n",
       "    </tr>\n",
       "  </thead>\n",
       "  <tbody>\n",
       "    <tr>\n",
       "      <th>5099</th>\n",
       "      <td>6fe2041b470113e626cb3f41e3789261d31f2548</td>\n",
       "      <td>吴晟 Wu Sheng</td>\n",
       "      <td>wu.sheng@foxmail.com</td>\n",
       "      <td>Fri Apr 10 11:03:24 2020 +0800</td>\n",
       "      <td>Make 8.0.0 Core available. New protocol and re...</td>\n",
       "      <td>[1, 2, 3, 4, 5, 6, 7, 8, 9, 10, 11, 12, 13, 14...</td>\n",
       "      <td>[]</td>\n",
       "      <td>oap-server/server-receiver-plugin/skywalking-t...</td>\n",
       "      <td>[{'line': 86, 'priority': 3, 'rule': 'Uncommen...</td>\n",
       "    </tr>\n",
       "    <tr>\n",
       "      <th>5100</th>\n",
       "      <td>6fe2041b470113e626cb3f41e3789261d31f2548</td>\n",
       "      <td>吴晟 Wu Sheng</td>\n",
       "      <td>wu.sheng@foxmail.com</td>\n",
       "      <td>Fri Apr 10 11:03:24 2020 +0800</td>\n",
       "      <td>Make 8.0.0 Core available. New protocol and re...</td>\n",
       "      <td>[1, 2, 3, 4, 5, 6, 7, 8, 9, 10, 11, 12, 13, 14...</td>\n",
       "      <td>[]</td>\n",
       "      <td>oap-server/server-receiver-plugin/skywalking-t...</td>\n",
       "      <td>[{'line': 40, 'priority': 3, 'rule': 'MissingS...</td>\n",
       "    </tr>\n",
       "    <tr>\n",
       "      <th>5101</th>\n",
       "      <td>6fe2041b470113e626cb3f41e3789261d31f2548</td>\n",
       "      <td>吴晟 Wu Sheng</td>\n",
       "      <td>wu.sheng@foxmail.com</td>\n",
       "      <td>Fri Apr 10 11:03:24 2020 +0800</td>\n",
       "      <td>Make 8.0.0 Core available. New protocol and re...</td>\n",
       "      <td>[27, 28, 29, 53, 60, 66, 67, 71, 76, 82, 83, 9...</td>\n",
       "      <td>[27, 30, 31, 32, 54, 61, 67, 68, 72, 77, 83, 8...</td>\n",
       "      <td>oap-server/server-storage-plugin/storage-influ...</td>\n",
       "      <td>[{'line': 91, 'priority': 3, 'rule': 'UnusedFo...</td>\n",
       "    </tr>\n",
       "    <tr>\n",
       "      <th>5102</th>\n",
       "      <td>6fe2041b470113e626cb3f41e3789261d31f2548</td>\n",
       "      <td>吴晟 Wu Sheng</td>\n",
       "      <td>wu.sheng@foxmail.com</td>\n",
       "      <td>Fri Apr 10 11:03:24 2020 +0800</td>\n",
       "      <td>Make 8.0.0 Core available. New protocol and re...</td>\n",
       "      <td>[21, 89, 90, 91, 123, 124, 125, 133, 134, 135,...</td>\n",
       "      <td>[30, 31, 90, 91, 123, 131, 163, 168, 191, 197]</td>\n",
       "      <td>oap-server/server-storage-plugin/storage-jdbc-...</td>\n",
       "      <td>[{'line': 90, 'priority': 3, 'rule': 'Optimiza...</td>\n",
       "    </tr>\n",
       "    <tr>\n",
       "      <th>5103</th>\n",
       "      <td>00e8f2d88698a56b17023150b4e490d7d2376ee8</td>\n",
       "      <td>kezhenxu94</td>\n",
       "      <td>kezhenxu94@apache.org</td>\n",
       "      <td>Sun Apr 12 20:48:44 2020 +0800</td>\n",
       "      <td>Fix bug that the agent heart beats too frequen...</td>\n",
       "      <td>[54, 88, 89, 94, 105, 112]</td>\n",
       "      <td>[54, 88, 89, 94, 105, 112]</td>\n",
       "      <td>apm-sniffer/apm-agent-core/src/main/java/org/a...</td>\n",
       "      <td>[{'line': 54, 'priority': 2, 'rule': 'AvoidUsi...</td>\n",
       "    </tr>\n",
       "  </tbody>\n",
       "</table>\n",
       "</div>"
      ],
      "text/plain": [
       "                                        commit         name  \\\n",
       "5099  6fe2041b470113e626cb3f41e3789261d31f2548  吴晟 Wu Sheng   \n",
       "5100  6fe2041b470113e626cb3f41e3789261d31f2548  吴晟 Wu Sheng   \n",
       "5101  6fe2041b470113e626cb3f41e3789261d31f2548  吴晟 Wu Sheng   \n",
       "5102  6fe2041b470113e626cb3f41e3789261d31f2548  吴晟 Wu Sheng   \n",
       "5103  00e8f2d88698a56b17023150b4e490d7d2376ee8   kezhenxu94   \n",
       "\n",
       "                      email                            date  \\\n",
       "5099   wu.sheng@foxmail.com  Fri Apr 10 11:03:24 2020 +0800   \n",
       "5100   wu.sheng@foxmail.com  Fri Apr 10 11:03:24 2020 +0800   \n",
       "5101   wu.sheng@foxmail.com  Fri Apr 10 11:03:24 2020 +0800   \n",
       "5102   wu.sheng@foxmail.com  Fri Apr 10 11:03:24 2020 +0800   \n",
       "5103  kezhenxu94@apache.org  Sun Apr 12 20:48:44 2020 +0800   \n",
       "\n",
       "                                                    msg  \\\n",
       "5099  Make 8.0.0 Core available. New protocol and re...   \n",
       "5100  Make 8.0.0 Core available. New protocol and re...   \n",
       "5101  Make 8.0.0 Core available. New protocol and re...   \n",
       "5102  Make 8.0.0 Core available. New protocol and re...   \n",
       "5103  Fix bug that the agent heart beats too frequen...   \n",
       "\n",
       "                                               addition  \\\n",
       "5099  [1, 2, 3, 4, 5, 6, 7, 8, 9, 10, 11, 12, 13, 14...   \n",
       "5100  [1, 2, 3, 4, 5, 6, 7, 8, 9, 10, 11, 12, 13, 14...   \n",
       "5101  [27, 28, 29, 53, 60, 66, 67, 71, 76, 82, 83, 9...   \n",
       "5102  [21, 89, 90, 91, 123, 124, 125, 133, 134, 135,...   \n",
       "5103                         [54, 88, 89, 94, 105, 112]   \n",
       "\n",
       "                                            subtraction  \\\n",
       "5099                                                 []   \n",
       "5100                                                 []   \n",
       "5101  [27, 30, 31, 32, 54, 61, 67, 68, 72, 77, 83, 8...   \n",
       "5102     [30, 31, 90, 91, 123, 131, 163, 168, 191, 197]   \n",
       "5103                         [54, 88, 89, 94, 105, 112]   \n",
       "\n",
       "                                                   file  \\\n",
       "5099  oap-server/server-receiver-plugin/skywalking-t...   \n",
       "5100  oap-server/server-receiver-plugin/skywalking-t...   \n",
       "5101  oap-server/server-storage-plugin/storage-influ...   \n",
       "5102  oap-server/server-storage-plugin/storage-jdbc-...   \n",
       "5103  apm-sniffer/apm-agent-core/src/main/java/org/a...   \n",
       "\n",
       "                                                 smells  \n",
       "5099  [{'line': 86, 'priority': 3, 'rule': 'Uncommen...  \n",
       "5100  [{'line': 40, 'priority': 3, 'rule': 'MissingS...  \n",
       "5101  [{'line': 91, 'priority': 3, 'rule': 'UnusedFo...  \n",
       "5102  [{'line': 90, 'priority': 3, 'rule': 'Optimiza...  \n",
       "5103  [{'line': 54, 'priority': 2, 'rule': 'AvoidUsi...  "
      ]
     },
     "execution_count": 139,
     "metadata": {},
     "output_type": "execute_result"
    }
   ],
   "source": [
    "smelly_data = new_data[new_data['smells'].map(len) > 0].reset_index(drop=True)\n",
    "smelly_data.tail()"
   ]
  },
  {
   "cell_type": "code",
   "execution_count": 160,
   "metadata": {},
   "outputs": [
    {
     "data": {
      "text/plain": [
       "('ae442e364f88f3bee35b327f32c07097af00c060',\n",
       " 'wu.sheng@foxmail.com',\n",
       " 'More comments for important classes (#4361)',\n",
       " [37, 38, 39, 40, 86, 87, 88, 131, 132],\n",
       " [82, 125],\n",
       " 'oap-server/server-library/library-buffer/src/main/java/org/apache/skywalking/oap/server/library/buffer/OffsetStream.java',\n",
       " [{'line': 131, 'priority': 3, 'rule': 'CloseResource'}])"
      ]
     },
     "execution_count": 160,
     "metadata": {},
     "output_type": "execute_result"
    }
   ],
   "source": [
    "i = 5015\n",
    "smelly_data.iloc[i].commit, smelly_data.iloc[i].email, smelly_data.iloc[i].msg, smelly_data.iloc[i].addition, smelly_data.iloc[i].subtraction, smelly_data.iloc[i].file, smelly_data.iloc[i].smells"
   ]
  },
  {
   "cell_type": "code",
   "execution_count": 173,
   "metadata": {},
   "outputs": [
    {
     "data": {
      "text/plain": [
       "commit                  ae442e364f88f3bee35b327f32c07097af00c060\n",
       "name                                                 吴晟 Wu Sheng\n",
       "email                                       wu.sheng@foxmail.com\n",
       "date                              Fri Feb 14 17:03:50 2020 +0800\n",
       "msg                  More comments for important classes (#4361)\n",
       "addition                  [37, 38, 39, 40, 86, 87, 88, 131, 132]\n",
       "subtraction                                            [82, 125]\n",
       "file           oap-server/server-library/library-buffer/src/m...\n",
       "smells         [{'line': 131, 'priority': 3, 'rule': 'CloseRe...\n",
       "Name: 5015, dtype: object"
      ]
     },
     "execution_count": 173,
     "metadata": {},
     "output_type": "execute_result"
    }
   ],
   "source": [
    "smelly_data.iloc[i]"
   ]
  },
  {
   "cell_type": "code",
   "execution_count": 91,
   "metadata": {},
   "outputs": [
    {
     "data": {
      "image/png": "[encoded data removed]",
      "text/plain": [
       "<Figure size 432x288 with 1 Axes>"
      ]
     },
     "metadata": {
      "image/png": {
       "height": 248,
       "width": 374
      },
      "needs_background": "light"
     },
     "output_type": "display_data"
    }
   ],
   "source": [
    "fig = plt.figure()\n",
    "ax = fig.add_subplot(111)\n",
    "\n",
    "sm = smelly_data.smells.map(len).reset_index(drop=True)\n",
    "ax.plot(sm)\n",
    "\n",
    "ax.set_yscale('log')\n",
    "\n",
    "plt.show()"
   ]
  },
  {
   "cell_type": "code",
   "execution_count": 94,
   "metadata": {},
   "outputs": [
    {
     "data": {
      "text/plain": [
       "(2.656347962382445, 11.460120377571203, 494, 1)"
      ]
     },
     "execution_count": 94,
     "metadata": {},
     "output_type": "execute_result"
    }
   ],
   "source": [
    "sm.mean(), sm.std(), sm.max(), sm.min()"
   ]
  },
  {
   "cell_type": "code",
   "execution_count": 108,
   "metadata": {},
   "outputs": [
    {
     "data": {
      "text/plain": [
       "13"
      ]
     },
     "execution_count": 108,
     "metadata": {},
     "output_type": "execute_result"
    }
   ],
   "source": [
    "smelly_data.iloc[i].smells[0]['line']"
   ]
  },
  {
   "cell_type": "markdown",
   "metadata": {},
   "source": [
    "# COUNTING"
   ]
  },
  {
   "cell_type": "code",
   "execution_count": 19,
   "metadata": {},
   "outputs": [
    {
     "name": "stdout",
     "output_type": "stream",
     "text": [
      "hobbyist commits: 17267\n",
      "professional commits: 35458\n"
     ]
    }
   ],
   "source": [
    "dirr = '/Users/stock/Development/cs/cs515/project/'\n",
    "\n",
    "fs = [{'pr': 'runelite', 'repo': 'runelite'},\n",
    "      {'pr': 'drools', 'repo': 'kiegroup'},\n",
    "      {'pr': 'NewPipe', 'repo': 'TeamNewPipe'},\n",
    "      {'pr': 'quarkus', 'repo': 'quarkusio'},\n",
    "      {'pr': 'open-liberty', 'repo': 'OpenLiberty'}]\n",
    "\n",
    "li = []\n",
    "commits = 0\n",
    "for f in fs:\n",
    "    df = pd.read_csv(dirr + f['pr'] + '/' + f['repo'] + '-' + f['pr'] + '-commits-smells.csv',\n",
    "                     index_col=None, header=0)\n",
    "    commits += df['commit'].nunique()\n",
    "    li.append(df)\n",
    "    \n",
    "print('hobbyist commits:', commits)\n",
    "hobb = pd.concat(li, axis=0, ignore_index=True)\n",
    "\n",
    "\n",
    "fs = [{'pr': 'skywalking', 'repo': 'apache'},\n",
    "      {'pr': 'druid', 'repo': 'apache'},\n",
    "      {'pr': 'flink', 'repo': 'apache'},\n",
    "      {'pr': 'cassandra', 'repo': 'apache'},\n",
    "      {'pr': 'beam', 'repo': 'apache'}]\n",
    "\n",
    "li = []\n",
    "commits = 0\n",
    "\n",
    "for f in fs:\n",
    "    df = pd.read_csv(dirr + f['pr'] + '/' + f['repo'] + '-' + f['pr'] + '-commits-smells.csv',\n",
    "                     index_col=None, header=0)\n",
    "    commits += df['commit'].nunique()\n",
    "    li.append(df)\n",
    "    \n",
    "print('professional commits:', commits)\n",
    "prof = pd.concat(li, axis=0, ignore_index=True)"
   ]
  },
  {
   "cell_type": "code",
   "execution_count": 23,
   "metadata": {},
   "outputs": [
    {
     "data": {
      "text/plain": [
       "(17267, 1085)"
      ]
     },
     "execution_count": 23,
     "metadata": {},
     "output_type": "execute_result"
    }
   ],
   "source": [
    "hobb['commit'].nunique(),hobb['email'].nunique()"
   ]
  },
  {
   "cell_type": "code",
   "execution_count": 22,
   "metadata": {},
   "outputs": [
    {
     "data": {
      "text/plain": [
       "(35458, 2033)"
      ]
     },
     "execution_count": 22,
     "metadata": {},
     "output_type": "execute_result"
    }
   ],
   "source": [
    "prof['commit'].nunique(), prof['email'].nunique()"
   ]
  },
  {
   "cell_type": "code",
   "execution_count": null,
   "metadata": {},
   "outputs": [],
   "source": []
  }
 ],
 "metadata": {
  "kernelspec": {
   "display_name": "Python 3",
   "language": "python",
   "name": "python3"
  },
  "language_info": {
   "codemirror_mode": {
    "name": "ipython",
    "version": 3
   },
   "file_extension": ".py",
   "mimetype": "text/x-python",
   "name": "python",
   "nbconvert_exporter": "python",
   "pygments_lexer": "ipython3",
   "version": "3.7.7"
  }
 },
 "nbformat": 4,
 "nbformat_minor": 4
}
